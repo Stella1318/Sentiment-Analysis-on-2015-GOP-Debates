{
 "cells": [
  {
   "cell_type": "code",
   "execution_count": 1,
   "metadata": {},
   "outputs": [],
   "source": [
    "import string\n",
    "import pickle\n",
    "import re\n",
    "\n",
    "import pandas as pd\n",
    "import numpy as np\n",
    "\n",
    "import nltk\n",
    "from nltk.corpus import stopwords\n",
    "from nltk.sentiment.vader import SentimentIntensityAnalyzer\n",
    "\n",
    "from sklearn.feature_extraction.text import CountVectorizer, TfidfVectorizer\n",
    "from sklearn.model_selection import train_test_split\n",
    "from sklearn.ensemble import RandomForestClassifier\n",
    "from sklearn.naive_bayes import MultinomialNB, BernoulliNB"
   ]
  },
  {
   "cell_type": "code",
   "execution_count": 2,
   "metadata": {},
   "outputs": [
    {
     "name": "stderr",
     "output_type": "stream",
     "text": [
      "[nltk_data] Downloading package vader_lexicon to\n",
      "[nltk_data]     /home/renatomz/nltk_data...\n",
      "[nltk_data]   Package vader_lexicon is already up-to-date!\n"
     ]
    },
    {
     "data": {
      "text/plain": [
       "True"
      ]
     },
     "execution_count": 2,
     "metadata": {},
     "output_type": "execute_result"
    }
   ],
   "source": [
    "nltk.download('vader_lexicon')"
   ]
  },
  {
   "cell_type": "code",
   "execution_count": 3,
   "metadata": {},
   "outputs": [
    {
     "data": {
      "text/html": [
       "<div>\n",
       "<style scoped>\n",
       "    .dataframe tbody tr th:only-of-type {\n",
       "        vertical-align: middle;\n",
       "    }\n",
       "\n",
       "    .dataframe tbody tr th {\n",
       "        vertical-align: top;\n",
       "    }\n",
       "\n",
       "    .dataframe thead th {\n",
       "        text-align: right;\n",
       "    }\n",
       "</style>\n",
       "<table border=\"1\" class=\"dataframe\">\n",
       "  <thead>\n",
       "    <tr style=\"text-align: right;\">\n",
       "      <th></th>\n",
       "      <th>candidate</th>\n",
       "      <th>sentiment</th>\n",
       "      <th>text</th>\n",
       "      <th>tweet_created</th>\n",
       "      <th>retweet_count</th>\n",
       "    </tr>\n",
       "  </thead>\n",
       "  <tbody>\n",
       "    <tr>\n",
       "      <th>0</th>\n",
       "      <td>No candidate mentioned</td>\n",
       "      <td>Neutral</td>\n",
       "      <td>RT @NancyLeeGrahn: How did everyone feel about...</td>\n",
       "      <td>2015-08-07 09:54:46-07:00</td>\n",
       "      <td>5</td>\n",
       "    </tr>\n",
       "    <tr>\n",
       "      <th>1</th>\n",
       "      <td>Scott Walker</td>\n",
       "      <td>Positive</td>\n",
       "      <td>RT @ScottWalker: Didn't catch the full #GOPdeb...</td>\n",
       "      <td>2015-08-07 09:54:46-07:00</td>\n",
       "      <td>26</td>\n",
       "    </tr>\n",
       "    <tr>\n",
       "      <th>2</th>\n",
       "      <td>No candidate mentioned</td>\n",
       "      <td>Neutral</td>\n",
       "      <td>RT @TJMShow: No mention of Tamir Rice and the ...</td>\n",
       "      <td>2015-08-07 09:54:46-07:00</td>\n",
       "      <td>27</td>\n",
       "    </tr>\n",
       "    <tr>\n",
       "      <th>3</th>\n",
       "      <td>No candidate mentioned</td>\n",
       "      <td>Positive</td>\n",
       "      <td>RT @RobGeorge: That Carly Fiorina is trending ...</td>\n",
       "      <td>2015-08-07 09:54:45-07:00</td>\n",
       "      <td>138</td>\n",
       "    </tr>\n",
       "    <tr>\n",
       "      <th>4</th>\n",
       "      <td>Donald Trump</td>\n",
       "      <td>Positive</td>\n",
       "      <td>RT @DanScavino: #GOPDebate w/ @realDonaldTrump...</td>\n",
       "      <td>2015-08-07 09:54:45-07:00</td>\n",
       "      <td>156</td>\n",
       "    </tr>\n",
       "    <tr>\n",
       "      <th>...</th>\n",
       "      <td>...</td>\n",
       "      <td>...</td>\n",
       "      <td>...</td>\n",
       "      <td>...</td>\n",
       "      <td>...</td>\n",
       "    </tr>\n",
       "    <tr>\n",
       "      <th>13866</th>\n",
       "      <td>No candidate mentioned</td>\n",
       "      <td>Negative</td>\n",
       "      <td>RT @cappy_yarbrough: Love to see men who will ...</td>\n",
       "      <td>2015-08-07 09:29:43-07:00</td>\n",
       "      <td>7</td>\n",
       "    </tr>\n",
       "    <tr>\n",
       "      <th>13867</th>\n",
       "      <td>Mike Huckabee</td>\n",
       "      <td>Positive</td>\n",
       "      <td>RT @georgehenryw: Who thought Huckabee exceede...</td>\n",
       "      <td>2015-08-07 09:25:02-07:00</td>\n",
       "      <td>1</td>\n",
       "    </tr>\n",
       "    <tr>\n",
       "      <th>13868</th>\n",
       "      <td>Ted Cruz</td>\n",
       "      <td>Positive</td>\n",
       "      <td>RT @Lrihendry: #TedCruz As President, I will a...</td>\n",
       "      <td>2015-08-07 07:19:18-07:00</td>\n",
       "      <td>67</td>\n",
       "    </tr>\n",
       "    <tr>\n",
       "      <th>13869</th>\n",
       "      <td>Donald Trump</td>\n",
       "      <td>Negative</td>\n",
       "      <td>RT @JRehling: #GOPDebate Donald Trump says tha...</td>\n",
       "      <td>2015-08-07 09:54:04-07:00</td>\n",
       "      <td>149</td>\n",
       "    </tr>\n",
       "    <tr>\n",
       "      <th>13870</th>\n",
       "      <td>Ted Cruz</td>\n",
       "      <td>Positive</td>\n",
       "      <td>RT @Lrihendry: #TedCruz headed into the Presid...</td>\n",
       "      <td>2015-08-06 18:22:27-07:00</td>\n",
       "      <td>65</td>\n",
       "    </tr>\n",
       "  </tbody>\n",
       "</table>\n",
       "<p>13871 rows × 5 columns</p>\n",
       "</div>"
      ],
      "text/plain": [
       "                    candidate sentiment  \\\n",
       "0      No candidate mentioned   Neutral   \n",
       "1                Scott Walker  Positive   \n",
       "2      No candidate mentioned   Neutral   \n",
       "3      No candidate mentioned  Positive   \n",
       "4                Donald Trump  Positive   \n",
       "...                       ...       ...   \n",
       "13866  No candidate mentioned  Negative   \n",
       "13867           Mike Huckabee  Positive   \n",
       "13868                Ted Cruz  Positive   \n",
       "13869            Donald Trump  Negative   \n",
       "13870                Ted Cruz  Positive   \n",
       "\n",
       "                                                    text  \\\n",
       "0      RT @NancyLeeGrahn: How did everyone feel about...   \n",
       "1      RT @ScottWalker: Didn't catch the full #GOPdeb...   \n",
       "2      RT @TJMShow: No mention of Tamir Rice and the ...   \n",
       "3      RT @RobGeorge: That Carly Fiorina is trending ...   \n",
       "4      RT @DanScavino: #GOPDebate w/ @realDonaldTrump...   \n",
       "...                                                  ...   \n",
       "13866  RT @cappy_yarbrough: Love to see men who will ...   \n",
       "13867  RT @georgehenryw: Who thought Huckabee exceede...   \n",
       "13868  RT @Lrihendry: #TedCruz As President, I will a...   \n",
       "13869  RT @JRehling: #GOPDebate Donald Trump says tha...   \n",
       "13870  RT @Lrihendry: #TedCruz headed into the Presid...   \n",
       "\n",
       "                  tweet_created  retweet_count  \n",
       "0     2015-08-07 09:54:46-07:00              5  \n",
       "1     2015-08-07 09:54:46-07:00             26  \n",
       "2     2015-08-07 09:54:46-07:00             27  \n",
       "3     2015-08-07 09:54:45-07:00            138  \n",
       "4     2015-08-07 09:54:45-07:00            156  \n",
       "...                         ...            ...  \n",
       "13866 2015-08-07 09:29:43-07:00              7  \n",
       "13867 2015-08-07 09:25:02-07:00              1  \n",
       "13868 2015-08-07 07:19:18-07:00             67  \n",
       "13869 2015-08-07 09:54:04-07:00            149  \n",
       "13870 2015-08-06 18:22:27-07:00             65  \n",
       "\n",
       "[13871 rows x 5 columns]"
      ]
     },
     "execution_count": 3,
     "metadata": {},
     "output_type": "execute_result"
    }
   ],
   "source": [
    "cols = [\"candidate\", \"sentiment\", \"text\", \"tweet_created\", \"retweet_count\"]\n",
    "df = pd.read_csv(\"Sentiment.csv\", parse_dates=[\"tweet_created\"])[cols]\n",
    "df"
   ]
  },
  {
   "cell_type": "markdown",
   "metadata": {},
   "source": [
    "# Text cleaning"
   ]
  },
  {
   "cell_type": "code",
   "execution_count": 4,
   "metadata": {},
   "outputs": [],
   "source": [
    "test_text = (\n",
    "    \"RT @DanScavino: #GOPDebate've w/ @realDonaldTrump'll, \"\n",
    "    \"extra text's is extra, http://www.t.cor/8S97asz8a4A/8S97asz8a4A, \"\n",
    "    \"don't click this http://www.t.cor/8S97asz8a4A\"\n",
    ")"
   ]
  },
  {
   "cell_type": "code",
   "execution_count": 5,
   "metadata": {},
   "outputs": [
    {
     "data": {
      "text/plain": [
       "['RT @DanScavino: ']"
      ]
     },
     "execution_count": 5,
     "metadata": {},
     "output_type": "execute_result"
    }
   ],
   "source": [
    "init_pattern = \"RT\\s@\\w+:\\s\"\n",
    "re.findall(init_pattern, test_text)"
   ]
  },
  {
   "cell_type": "code",
   "execution_count": 6,
   "metadata": {},
   "outputs": [
    {
     "data": {
      "text/plain": [
       "['#GOPDebate']"
      ]
     },
     "execution_count": 6,
     "metadata": {},
     "output_type": "execute_result"
    }
   ],
   "source": [
    "hashtag_pattern = \"#\\w+\"\n",
    "re.findall(hashtag_pattern, test_text)"
   ]
  },
  {
   "cell_type": "code",
   "execution_count": 7,
   "metadata": {},
   "outputs": [
    {
     "data": {
      "text/plain": [
       "['@DanScavino', '@realDonaldTrump']"
      ]
     },
     "execution_count": 7,
     "metadata": {},
     "output_type": "execute_result"
    }
   ],
   "source": [
    "mention_pattern = \"@\\w+\"\n",
    "re.findall(mention_pattern, test_text)"
   ]
  },
  {
   "cell_type": "code",
   "execution_count": 8,
   "metadata": {},
   "outputs": [
    {
     "data": {
      "text/plain": [
       "['http://www.t.cor/8S97asz8a4A/8S97asz8a4A', 'http://www.t.cor/8S97asz8a4A']"
      ]
     },
     "execution_count": 8,
     "metadata": {},
     "output_type": "execute_result"
    }
   ],
   "source": [
    "# This one is nasty! What does the last part do?\n",
    "link_pattern = \"https?://?w{0,3}\\.?\\w+.\\w+/(?:/?\\w+)*\"\n",
    "re.findall(link_pattern, test_text)"
   ]
  },
  {
   "cell_type": "code",
   "execution_count": 9,
   "metadata": {},
   "outputs": [
    {
     "data": {
      "text/plain": [
       "[\"'ve\", \"'ll\", \"'s\", \"'t\"]"
      ]
     },
     "execution_count": 9,
     "metadata": {},
     "output_type": "execute_result"
    }
   ],
   "source": [
    "contract_pattern = \"('(?:s|ll|ve|t))\"\n",
    "re.findall(contract_pattern, test_text)"
   ]
  },
  {
   "cell_type": "code",
   "execution_count": 10,
   "metadata": {},
   "outputs": [
    {
     "data": {
      "text/plain": [
       "[('RT @DanScavino: ', ''),\n",
       " ('#GOPDebate', ''),\n",
       " (\"'ve\", \"'ve\"),\n",
       " ('@realDonaldTrump', ''),\n",
       " (\"'ll\", \"'ll\"),\n",
       " (\"'s\", \"'s\"),\n",
       " ('http://www.t.cor/8S97asz8a4A/8S97asz8a4A', ''),\n",
       " (\"'t\", \"'t\"),\n",
       " ('http://www.t.cor/8S97asz8a4A', '')]"
      ]
     },
     "execution_count": 10,
     "metadata": {},
     "output_type": "execute_result"
    }
   ],
   "source": [
    "pattern_list = [init_pattern, hashtag_pattern, mention_pattern, link_pattern, contract_pattern]\n",
    "patterns_to_rm = f\"({'|'.join(pattern_list)})\"\n",
    "re.findall(patterns_to_rm, test_text)"
   ]
  },
  {
   "cell_type": "code",
   "execution_count": 11,
   "metadata": {},
   "outputs": [
    {
     "data": {
      "text/plain": [
       "' w/ , extra text is extra, , don click this '"
      ]
     },
     "execution_count": 11,
     "metadata": {},
     "output_type": "execute_result"
    }
   ],
   "source": [
    "re.sub(patterns_to_rm, '', test_text)"
   ]
  },
  {
   "cell_type": "code",
   "execution_count": 12,
   "metadata": {},
   "outputs": [],
   "source": [
    "words_to_rm = (\n",
    "    set(stopwords.words(\"english\")) |\n",
    "    set(string.punctuation) |\n",
    "    set([]) # any extra words\n",
    ")\n",
    "\n",
    "def is_valid(word, words_to_rm):\n",
    "    # Why not just use the words_to_rm defined in the global scope?\n",
    "    return (word not in words_to_rm) and (not word.isdigit())"
   ]
  },
  {
   "cell_type": "code",
   "execution_count": 13,
   "metadata": {},
   "outputs": [
    {
     "data": {
      "text/html": [
       "<div>\n",
       "<style scoped>\n",
       "    .dataframe tbody tr th:only-of-type {\n",
       "        vertical-align: middle;\n",
       "    }\n",
       "\n",
       "    .dataframe tbody tr th {\n",
       "        vertical-align: top;\n",
       "    }\n",
       "\n",
       "    .dataframe thead th {\n",
       "        text-align: right;\n",
       "    }\n",
       "</style>\n",
       "<table border=\"1\" class=\"dataframe\">\n",
       "  <thead>\n",
       "    <tr style=\"text-align: right;\">\n",
       "      <th></th>\n",
       "      <th>text</th>\n",
       "      <th>clean_text</th>\n",
       "    </tr>\n",
       "  </thead>\n",
       "  <tbody>\n",
       "    <tr>\n",
       "      <th>0</th>\n",
       "      <td>RT @NancyLeeGrahn: How did everyone feel about...</td>\n",
       "      <td>everyone feel climate change question last nig...</td>\n",
       "    </tr>\n",
       "    <tr>\n",
       "      <th>1</th>\n",
       "      <td>RT @ScottWalker: Didn't catch the full #GOPdeb...</td>\n",
       "      <td>catch full last night. scott best lines second...</td>\n",
       "    </tr>\n",
       "    <tr>\n",
       "      <th>2</th>\n",
       "      <td>RT @TJMShow: No mention of Tamir Rice and the ...</td>\n",
       "      <td>mention tamir rice held cleveland? wow.</td>\n",
       "    </tr>\n",
       "    <tr>\n",
       "      <th>3</th>\n",
       "      <td>RT @RobGeorge: That Carly Fiorina is trending ...</td>\n",
       "      <td>carly fiorina trending -- hours debate -- men ...</td>\n",
       "    </tr>\n",
       "    <tr>\n",
       "      <th>4</th>\n",
       "      <td>RT @DanScavino: #GOPDebate w/ @realDonaldTrump...</td>\n",
       "      <td>w/ delivered highest ratings history president...</td>\n",
       "    </tr>\n",
       "    <tr>\n",
       "      <th>...</th>\n",
       "      <td>...</td>\n",
       "      <td>...</td>\n",
       "    </tr>\n",
       "    <tr>\n",
       "      <th>13866</th>\n",
       "      <td>RT @cappy_yarbrough: Love to see men who will ...</td>\n",
       "      <td>love see men never faced pregnancy talk body ❤...</td>\n",
       "    </tr>\n",
       "    <tr>\n",
       "      <th>13867</th>\n",
       "      <td>RT @georgehenryw: Who thought Huckabee exceede...</td>\n",
       "      <td>thought huckabee exceeded expectations http…</td>\n",
       "    </tr>\n",
       "    <tr>\n",
       "      <th>13868</th>\n",
       "      <td>RT @Lrihendry: #TedCruz As President, I will a...</td>\n",
       "      <td>president, always tell truth, said would do.</td>\n",
       "    </tr>\n",
       "    <tr>\n",
       "      <th>13869</th>\n",
       "      <td>RT @JRehling: #GOPDebate Donald Trump says tha...</td>\n",
       "      <td>donald trump says time political correctness. ...</td>\n",
       "    </tr>\n",
       "    <tr>\n",
       "      <th>13870</th>\n",
       "      <td>RT @Lrihendry: #TedCruz headed into the Presid...</td>\n",
       "      <td>headed presidential debates. go ted!!</td>\n",
       "    </tr>\n",
       "  </tbody>\n",
       "</table>\n",
       "<p>13871 rows × 2 columns</p>\n",
       "</div>"
      ],
      "text/plain": [
       "                                                    text  \\\n",
       "0      RT @NancyLeeGrahn: How did everyone feel about...   \n",
       "1      RT @ScottWalker: Didn't catch the full #GOPdeb...   \n",
       "2      RT @TJMShow: No mention of Tamir Rice and the ...   \n",
       "3      RT @RobGeorge: That Carly Fiorina is trending ...   \n",
       "4      RT @DanScavino: #GOPDebate w/ @realDonaldTrump...   \n",
       "...                                                  ...   \n",
       "13866  RT @cappy_yarbrough: Love to see men who will ...   \n",
       "13867  RT @georgehenryw: Who thought Huckabee exceede...   \n",
       "13868  RT @Lrihendry: #TedCruz As President, I will a...   \n",
       "13869  RT @JRehling: #GOPDebate Donald Trump says tha...   \n",
       "13870  RT @Lrihendry: #TedCruz headed into the Presid...   \n",
       "\n",
       "                                              clean_text  \n",
       "0      everyone feel climate change question last nig...  \n",
       "1      catch full last night. scott best lines second...  \n",
       "2                mention tamir rice held cleveland? wow.  \n",
       "3      carly fiorina trending -- hours debate -- men ...  \n",
       "4      w/ delivered highest ratings history president...  \n",
       "...                                                  ...  \n",
       "13866  love see men never faced pregnancy talk body ❤...  \n",
       "13867       thought huckabee exceeded expectations http…  \n",
       "13868       president, always tell truth, said would do.  \n",
       "13869  donald trump says time political correctness. ...  \n",
       "13870              headed presidential debates. go ted!!  \n",
       "\n",
       "[13871 rows x 2 columns]"
      ]
     },
     "execution_count": 13,
     "metadata": {},
     "output_type": "execute_result"
    }
   ],
   "source": [
    "# Input is a string, the output is a cleaned string\n",
    "def clean(tweet, patterns_to_rm, words_to_rm):\n",
    "    tweet = re.sub(patterns_to_rm, '', tweet)\n",
    "    tweet = ' '.join([word \n",
    "                      for word in tweet.lower().split() \n",
    "                      if is_valid(word, words_to_rm)])\n",
    "    return tweet\n",
    "\n",
    "# Adding a new column to our relevant data\n",
    "df[\"clean_text\"] = df[\"text\"].apply(clean, args=(patterns_to_rm, words_to_rm))\n",
    "df[[\"text\", \"clean_text\"]]"
   ]
  },
  {
   "cell_type": "markdown",
   "metadata": {},
   "source": [
    "# Question 1"
   ]
  },
  {
   "cell_type": "code",
   "execution_count": 14,
   "metadata": {},
   "outputs": [],
   "source": [
    "# Create an instance of the analyzer\n",
    "# https://github.com/cjhutto/vaderSentiment\n",
    "sentiment_analyzer = SentimentIntensityAnalyzer()"
   ]
  },
  {
   "cell_type": "code",
   "execution_count": 15,
   "metadata": {},
   "outputs": [
    {
     "data": {
      "text/plain": [
       "{'neg': 0.0, 'neu': 0.673, 'pos': 0.327, 'compound': 0.5984}"
      ]
     },
     "execution_count": 15,
     "metadata": {},
     "output_type": "execute_result"
    }
   ],
   "source": [
    "sentiment_analyzer.polarity_scores(\"this world cup is going to be absolutely fantastic\")"
   ]
  },
  {
   "cell_type": "code",
   "execution_count": 16,
   "metadata": {},
   "outputs": [
    {
     "data": {
      "text/plain": [
       "{'neg': 0.558, 'neu': 0.442, 'pos': 0.0, 'compound': -0.743}"
      ]
     },
     "execution_count": 16,
     "metadata": {},
     "output_type": "execute_result"
    }
   ],
   "source": [
    "sentiment_analyzer.polarity_scores(\"being a university student is stressful and irritating\")"
   ]
  },
  {
   "cell_type": "code",
   "execution_count": 17,
   "metadata": {},
   "outputs": [
    {
     "data": {
      "text/html": [
       "<div>\n",
       "<style scoped>\n",
       "    .dataframe tbody tr th:only-of-type {\n",
       "        vertical-align: middle;\n",
       "    }\n",
       "\n",
       "    .dataframe tbody tr th {\n",
       "        vertical-align: top;\n",
       "    }\n",
       "\n",
       "    .dataframe thead th {\n",
       "        text-align: right;\n",
       "    }\n",
       "</style>\n",
       "<table border=\"1\" class=\"dataframe\">\n",
       "  <thead>\n",
       "    <tr style=\"text-align: right;\">\n",
       "      <th></th>\n",
       "      <th>candidate</th>\n",
       "      <th>sentiment</th>\n",
       "      <th>text</th>\n",
       "      <th>tweet_created</th>\n",
       "      <th>retweet_count</th>\n",
       "      <th>clean_text</th>\n",
       "      <th>compound</th>\n",
       "    </tr>\n",
       "  </thead>\n",
       "  <tbody>\n",
       "    <tr>\n",
       "      <th>0</th>\n",
       "      <td>No candidate mentioned</td>\n",
       "      <td>Neutral</td>\n",
       "      <td>RT @NancyLeeGrahn: How did everyone feel about...</td>\n",
       "      <td>2015-08-07 09:54:46-07:00</td>\n",
       "      <td>5</td>\n",
       "      <td>everyone feel climate change question last nig...</td>\n",
       "      <td>0.0000</td>\n",
       "    </tr>\n",
       "    <tr>\n",
       "      <th>1</th>\n",
       "      <td>Scott Walker</td>\n",
       "      <td>Positive</td>\n",
       "      <td>RT @ScottWalker: Didn't catch the full #GOPdeb...</td>\n",
       "      <td>2015-08-07 09:54:46-07:00</td>\n",
       "      <td>26</td>\n",
       "      <td>catch full last night. scott best lines second...</td>\n",
       "      <td>0.6369</td>\n",
       "    </tr>\n",
       "    <tr>\n",
       "      <th>2</th>\n",
       "      <td>No candidate mentioned</td>\n",
       "      <td>Neutral</td>\n",
       "      <td>RT @TJMShow: No mention of Tamir Rice and the ...</td>\n",
       "      <td>2015-08-07 09:54:46-07:00</td>\n",
       "      <td>27</td>\n",
       "      <td>mention tamir rice held cleveland? wow.</td>\n",
       "      <td>0.5859</td>\n",
       "    </tr>\n",
       "    <tr>\n",
       "      <th>3</th>\n",
       "      <td>No candidate mentioned</td>\n",
       "      <td>Positive</td>\n",
       "      <td>RT @RobGeorge: That Carly Fiorina is trending ...</td>\n",
       "      <td>2015-08-07 09:54:45-07:00</td>\n",
       "      <td>138</td>\n",
       "      <td>carly fiorina trending -- hours debate -- men ...</td>\n",
       "      <td>0.0000</td>\n",
       "    </tr>\n",
       "    <tr>\n",
       "      <th>4</th>\n",
       "      <td>Donald Trump</td>\n",
       "      <td>Positive</td>\n",
       "      <td>RT @DanScavino: #GOPDebate w/ @realDonaldTrump...</td>\n",
       "      <td>2015-08-07 09:54:45-07:00</td>\n",
       "      <td>156</td>\n",
       "      <td>w/ delivered highest ratings history president...</td>\n",
       "      <td>0.0000</td>\n",
       "    </tr>\n",
       "    <tr>\n",
       "      <th>...</th>\n",
       "      <td>...</td>\n",
       "      <td>...</td>\n",
       "      <td>...</td>\n",
       "      <td>...</td>\n",
       "      <td>...</td>\n",
       "      <td>...</td>\n",
       "      <td>...</td>\n",
       "    </tr>\n",
       "    <tr>\n",
       "      <th>13866</th>\n",
       "      <td>No candidate mentioned</td>\n",
       "      <td>Negative</td>\n",
       "      <td>RT @cappy_yarbrough: Love to see men who will ...</td>\n",
       "      <td>2015-08-07 09:29:43-07:00</td>\n",
       "      <td>7</td>\n",
       "      <td>love see men never faced pregnancy talk body ❤...</td>\n",
       "      <td>0.6369</td>\n",
       "    </tr>\n",
       "    <tr>\n",
       "      <th>13867</th>\n",
       "      <td>Mike Huckabee</td>\n",
       "      <td>Positive</td>\n",
       "      <td>RT @georgehenryw: Who thought Huckabee exceede...</td>\n",
       "      <td>2015-08-07 09:25:02-07:00</td>\n",
       "      <td>1</td>\n",
       "      <td>thought huckabee exceeded expectations http…</td>\n",
       "      <td>0.0000</td>\n",
       "    </tr>\n",
       "    <tr>\n",
       "      <th>13868</th>\n",
       "      <td>Ted Cruz</td>\n",
       "      <td>Positive</td>\n",
       "      <td>RT @Lrihendry: #TedCruz As President, I will a...</td>\n",
       "      <td>2015-08-07 07:19:18-07:00</td>\n",
       "      <td>67</td>\n",
       "      <td>president, always tell truth, said would do.</td>\n",
       "      <td>0.3182</td>\n",
       "    </tr>\n",
       "    <tr>\n",
       "      <th>13869</th>\n",
       "      <td>Donald Trump</td>\n",
       "      <td>Negative</td>\n",
       "      <td>RT @JRehling: #GOPDebate Donald Trump says tha...</td>\n",
       "      <td>2015-08-07 09:54:04-07:00</td>\n",
       "      <td>149</td>\n",
       "      <td>donald trump says time political correctness. ...</td>\n",
       "      <td>0.4939</td>\n",
       "    </tr>\n",
       "    <tr>\n",
       "      <th>13870</th>\n",
       "      <td>Ted Cruz</td>\n",
       "      <td>Positive</td>\n",
       "      <td>RT @Lrihendry: #TedCruz headed into the Presid...</td>\n",
       "      <td>2015-08-06 18:22:27-07:00</td>\n",
       "      <td>65</td>\n",
       "      <td>headed presidential debates. go ted!!</td>\n",
       "      <td>0.0000</td>\n",
       "    </tr>\n",
       "  </tbody>\n",
       "</table>\n",
       "<p>13871 rows × 7 columns</p>\n",
       "</div>"
      ],
      "text/plain": [
       "                    candidate sentiment  \\\n",
       "0      No candidate mentioned   Neutral   \n",
       "1                Scott Walker  Positive   \n",
       "2      No candidate mentioned   Neutral   \n",
       "3      No candidate mentioned  Positive   \n",
       "4                Donald Trump  Positive   \n",
       "...                       ...       ...   \n",
       "13866  No candidate mentioned  Negative   \n",
       "13867           Mike Huckabee  Positive   \n",
       "13868                Ted Cruz  Positive   \n",
       "13869            Donald Trump  Negative   \n",
       "13870                Ted Cruz  Positive   \n",
       "\n",
       "                                                    text  \\\n",
       "0      RT @NancyLeeGrahn: How did everyone feel about...   \n",
       "1      RT @ScottWalker: Didn't catch the full #GOPdeb...   \n",
       "2      RT @TJMShow: No mention of Tamir Rice and the ...   \n",
       "3      RT @RobGeorge: That Carly Fiorina is trending ...   \n",
       "4      RT @DanScavino: #GOPDebate w/ @realDonaldTrump...   \n",
       "...                                                  ...   \n",
       "13866  RT @cappy_yarbrough: Love to see men who will ...   \n",
       "13867  RT @georgehenryw: Who thought Huckabee exceede...   \n",
       "13868  RT @Lrihendry: #TedCruz As President, I will a...   \n",
       "13869  RT @JRehling: #GOPDebate Donald Trump says tha...   \n",
       "13870  RT @Lrihendry: #TedCruz headed into the Presid...   \n",
       "\n",
       "                  tweet_created  retweet_count  \\\n",
       "0     2015-08-07 09:54:46-07:00              5   \n",
       "1     2015-08-07 09:54:46-07:00             26   \n",
       "2     2015-08-07 09:54:46-07:00             27   \n",
       "3     2015-08-07 09:54:45-07:00            138   \n",
       "4     2015-08-07 09:54:45-07:00            156   \n",
       "...                         ...            ...   \n",
       "13866 2015-08-07 09:29:43-07:00              7   \n",
       "13867 2015-08-07 09:25:02-07:00              1   \n",
       "13868 2015-08-07 07:19:18-07:00             67   \n",
       "13869 2015-08-07 09:54:04-07:00            149   \n",
       "13870 2015-08-06 18:22:27-07:00             65   \n",
       "\n",
       "                                              clean_text  compound  \n",
       "0      everyone feel climate change question last nig...    0.0000  \n",
       "1      catch full last night. scott best lines second...    0.6369  \n",
       "2                mention tamir rice held cleveland? wow.    0.5859  \n",
       "3      carly fiorina trending -- hours debate -- men ...    0.0000  \n",
       "4      w/ delivered highest ratings history president...    0.0000  \n",
       "...                                                  ...       ...  \n",
       "13866  love see men never faced pregnancy talk body ❤...    0.6369  \n",
       "13867       thought huckabee exceeded expectations http…    0.0000  \n",
       "13868       president, always tell truth, said would do.    0.3182  \n",
       "13869  donald trump says time political correctness. ...    0.4939  \n",
       "13870              headed presidential debates. go ted!!    0.0000  \n",
       "\n",
       "[13871 rows x 7 columns]"
      ]
     },
     "execution_count": 17,
     "metadata": {},
     "output_type": "execute_result"
    }
   ],
   "source": [
    "# Create columns for the Negative, Neutral, Positive, and Compound scores:\n",
    "new_cols = [\"compound\"]\n",
    "\n",
    "df[new_cols] = 0.0\n",
    "for idx, text in zip(df.index, df[\"clean_text\"]):\n",
    "    sent = sentiment_analyzer.polarity_scores(text)\n",
    "    for key in new_cols:\n",
    "        df.loc[idx, key] = sent[key]\n",
    "\n",
    "df"
   ]
  },
  {
   "cell_type": "code",
   "execution_count": 18,
   "metadata": {},
   "outputs": [],
   "source": [
    "# Create a column that wraps up the Vader predictions nicely\n",
    "# using np.select to make things FAST\n",
    "# https://numpy.org/doc/stable/reference/generated/numpy.select.html\n",
    "conditions = [\n",
    "    (df[\"compound\"] >=  0.1),\n",
    "    (df[\"compound\"] <= -0.1)\n",
    "]\n",
    "choices = [\"Positive\", \"Negative\"]\n",
    "df[\"vader_sentiment\"] = np.select(conditions, choices, default=\"Neutral\")"
   ]
  },
  {
   "cell_type": "code",
   "execution_count": 19,
   "metadata": {},
   "outputs": [
    {
     "data": {
      "text/html": [
       "<div>\n",
       "<style scoped>\n",
       "    .dataframe tbody tr th:only-of-type {\n",
       "        vertical-align: middle;\n",
       "    }\n",
       "\n",
       "    .dataframe tbody tr th {\n",
       "        vertical-align: top;\n",
       "    }\n",
       "\n",
       "    .dataframe thead th {\n",
       "        text-align: right;\n",
       "    }\n",
       "</style>\n",
       "<table border=\"1\" class=\"dataframe\">\n",
       "  <thead>\n",
       "    <tr style=\"text-align: right;\">\n",
       "      <th></th>\n",
       "      <th>candidate</th>\n",
       "      <th>sentiment</th>\n",
       "      <th>text</th>\n",
       "      <th>tweet_created</th>\n",
       "      <th>retweet_count</th>\n",
       "      <th>clean_text</th>\n",
       "      <th>compound</th>\n",
       "      <th>vader_sentiment</th>\n",
       "    </tr>\n",
       "  </thead>\n",
       "  <tbody>\n",
       "    <tr>\n",
       "      <th>0</th>\n",
       "      <td>No candidate mentioned</td>\n",
       "      <td>Neutral</td>\n",
       "      <td>RT @NancyLeeGrahn: How did everyone feel about...</td>\n",
       "      <td>2015-08-07 09:54:46-07:00</td>\n",
       "      <td>5</td>\n",
       "      <td>everyone feel climate change question last nig...</td>\n",
       "      <td>0.0000</td>\n",
       "      <td>Neutral</td>\n",
       "    </tr>\n",
       "    <tr>\n",
       "      <th>1</th>\n",
       "      <td>Scott Walker</td>\n",
       "      <td>Positive</td>\n",
       "      <td>RT @ScottWalker: Didn't catch the full #GOPdeb...</td>\n",
       "      <td>2015-08-07 09:54:46-07:00</td>\n",
       "      <td>26</td>\n",
       "      <td>catch full last night. scott best lines second...</td>\n",
       "      <td>0.6369</td>\n",
       "      <td>Positive</td>\n",
       "    </tr>\n",
       "    <tr>\n",
       "      <th>2</th>\n",
       "      <td>No candidate mentioned</td>\n",
       "      <td>Neutral</td>\n",
       "      <td>RT @TJMShow: No mention of Tamir Rice and the ...</td>\n",
       "      <td>2015-08-07 09:54:46-07:00</td>\n",
       "      <td>27</td>\n",
       "      <td>mention tamir rice held cleveland? wow.</td>\n",
       "      <td>0.5859</td>\n",
       "      <td>Positive</td>\n",
       "    </tr>\n",
       "    <tr>\n",
       "      <th>3</th>\n",
       "      <td>No candidate mentioned</td>\n",
       "      <td>Positive</td>\n",
       "      <td>RT @RobGeorge: That Carly Fiorina is trending ...</td>\n",
       "      <td>2015-08-07 09:54:45-07:00</td>\n",
       "      <td>138</td>\n",
       "      <td>carly fiorina trending -- hours debate -- men ...</td>\n",
       "      <td>0.0000</td>\n",
       "      <td>Neutral</td>\n",
       "    </tr>\n",
       "    <tr>\n",
       "      <th>4</th>\n",
       "      <td>Donald Trump</td>\n",
       "      <td>Positive</td>\n",
       "      <td>RT @DanScavino: #GOPDebate w/ @realDonaldTrump...</td>\n",
       "      <td>2015-08-07 09:54:45-07:00</td>\n",
       "      <td>156</td>\n",
       "      <td>w/ delivered highest ratings history president...</td>\n",
       "      <td>0.0000</td>\n",
       "      <td>Neutral</td>\n",
       "    </tr>\n",
       "    <tr>\n",
       "      <th>...</th>\n",
       "      <td>...</td>\n",
       "      <td>...</td>\n",
       "      <td>...</td>\n",
       "      <td>...</td>\n",
       "      <td>...</td>\n",
       "      <td>...</td>\n",
       "      <td>...</td>\n",
       "      <td>...</td>\n",
       "    </tr>\n",
       "    <tr>\n",
       "      <th>13866</th>\n",
       "      <td>No candidate mentioned</td>\n",
       "      <td>Negative</td>\n",
       "      <td>RT @cappy_yarbrough: Love to see men who will ...</td>\n",
       "      <td>2015-08-07 09:29:43-07:00</td>\n",
       "      <td>7</td>\n",
       "      <td>love see men never faced pregnancy talk body ❤...</td>\n",
       "      <td>0.6369</td>\n",
       "      <td>Positive</td>\n",
       "    </tr>\n",
       "    <tr>\n",
       "      <th>13867</th>\n",
       "      <td>Mike Huckabee</td>\n",
       "      <td>Positive</td>\n",
       "      <td>RT @georgehenryw: Who thought Huckabee exceede...</td>\n",
       "      <td>2015-08-07 09:25:02-07:00</td>\n",
       "      <td>1</td>\n",
       "      <td>thought huckabee exceeded expectations http…</td>\n",
       "      <td>0.0000</td>\n",
       "      <td>Neutral</td>\n",
       "    </tr>\n",
       "    <tr>\n",
       "      <th>13868</th>\n",
       "      <td>Ted Cruz</td>\n",
       "      <td>Positive</td>\n",
       "      <td>RT @Lrihendry: #TedCruz As President, I will a...</td>\n",
       "      <td>2015-08-07 07:19:18-07:00</td>\n",
       "      <td>67</td>\n",
       "      <td>president, always tell truth, said would do.</td>\n",
       "      <td>0.3182</td>\n",
       "      <td>Positive</td>\n",
       "    </tr>\n",
       "    <tr>\n",
       "      <th>13869</th>\n",
       "      <td>Donald Trump</td>\n",
       "      <td>Negative</td>\n",
       "      <td>RT @JRehling: #GOPDebate Donald Trump says tha...</td>\n",
       "      <td>2015-08-07 09:54:04-07:00</td>\n",
       "      <td>149</td>\n",
       "      <td>donald trump says time political correctness. ...</td>\n",
       "      <td>0.4939</td>\n",
       "      <td>Positive</td>\n",
       "    </tr>\n",
       "    <tr>\n",
       "      <th>13870</th>\n",
       "      <td>Ted Cruz</td>\n",
       "      <td>Positive</td>\n",
       "      <td>RT @Lrihendry: #TedCruz headed into the Presid...</td>\n",
       "      <td>2015-08-06 18:22:27-07:00</td>\n",
       "      <td>65</td>\n",
       "      <td>headed presidential debates. go ted!!</td>\n",
       "      <td>0.0000</td>\n",
       "      <td>Neutral</td>\n",
       "    </tr>\n",
       "  </tbody>\n",
       "</table>\n",
       "<p>13871 rows × 8 columns</p>\n",
       "</div>"
      ],
      "text/plain": [
       "                    candidate sentiment  \\\n",
       "0      No candidate mentioned   Neutral   \n",
       "1                Scott Walker  Positive   \n",
       "2      No candidate mentioned   Neutral   \n",
       "3      No candidate mentioned  Positive   \n",
       "4                Donald Trump  Positive   \n",
       "...                       ...       ...   \n",
       "13866  No candidate mentioned  Negative   \n",
       "13867           Mike Huckabee  Positive   \n",
       "13868                Ted Cruz  Positive   \n",
       "13869            Donald Trump  Negative   \n",
       "13870                Ted Cruz  Positive   \n",
       "\n",
       "                                                    text  \\\n",
       "0      RT @NancyLeeGrahn: How did everyone feel about...   \n",
       "1      RT @ScottWalker: Didn't catch the full #GOPdeb...   \n",
       "2      RT @TJMShow: No mention of Tamir Rice and the ...   \n",
       "3      RT @RobGeorge: That Carly Fiorina is trending ...   \n",
       "4      RT @DanScavino: #GOPDebate w/ @realDonaldTrump...   \n",
       "...                                                  ...   \n",
       "13866  RT @cappy_yarbrough: Love to see men who will ...   \n",
       "13867  RT @georgehenryw: Who thought Huckabee exceede...   \n",
       "13868  RT @Lrihendry: #TedCruz As President, I will a...   \n",
       "13869  RT @JRehling: #GOPDebate Donald Trump says tha...   \n",
       "13870  RT @Lrihendry: #TedCruz headed into the Presid...   \n",
       "\n",
       "                  tweet_created  retweet_count  \\\n",
       "0     2015-08-07 09:54:46-07:00              5   \n",
       "1     2015-08-07 09:54:46-07:00             26   \n",
       "2     2015-08-07 09:54:46-07:00             27   \n",
       "3     2015-08-07 09:54:45-07:00            138   \n",
       "4     2015-08-07 09:54:45-07:00            156   \n",
       "...                         ...            ...   \n",
       "13866 2015-08-07 09:29:43-07:00              7   \n",
       "13867 2015-08-07 09:25:02-07:00              1   \n",
       "13868 2015-08-07 07:19:18-07:00             67   \n",
       "13869 2015-08-07 09:54:04-07:00            149   \n",
       "13870 2015-08-06 18:22:27-07:00             65   \n",
       "\n",
       "                                              clean_text  compound  \\\n",
       "0      everyone feel climate change question last nig...    0.0000   \n",
       "1      catch full last night. scott best lines second...    0.6369   \n",
       "2                mention tamir rice held cleveland? wow.    0.5859   \n",
       "3      carly fiorina trending -- hours debate -- men ...    0.0000   \n",
       "4      w/ delivered highest ratings history president...    0.0000   \n",
       "...                                                  ...       ...   \n",
       "13866  love see men never faced pregnancy talk body ❤...    0.6369   \n",
       "13867       thought huckabee exceeded expectations http…    0.0000   \n",
       "13868       president, always tell truth, said would do.    0.3182   \n",
       "13869  donald trump says time political correctness. ...    0.4939   \n",
       "13870              headed presidential debates. go ted!!    0.0000   \n",
       "\n",
       "      vader_sentiment  \n",
       "0             Neutral  \n",
       "1            Positive  \n",
       "2            Positive  \n",
       "3             Neutral  \n",
       "4             Neutral  \n",
       "...               ...  \n",
       "13866        Positive  \n",
       "13867         Neutral  \n",
       "13868        Positive  \n",
       "13869        Positive  \n",
       "13870         Neutral  \n",
       "\n",
       "[13871 rows x 8 columns]"
      ]
     },
     "execution_count": 19,
     "metadata": {},
     "output_type": "execute_result"
    }
   ],
   "source": [
    "df"
   ]
  },
  {
   "cell_type": "markdown",
   "metadata": {},
   "source": [
    "# Question 2"
   ]
  },
  {
   "cell_type": "code",
   "execution_count": 20,
   "metadata": {},
   "outputs": [
    {
     "data": {
      "text/plain": [
       "0.4097036983634922"
      ]
     },
     "execution_count": 20,
     "metadata": {},
     "output_type": "execute_result"
    }
   ],
   "source": [
    "# Let's make a column with agreement between the human-annotated sentiment. \n",
    "df[\"s_agree\"] = np.select(\n",
    "    [df[\"vader_sentiment\"] == df[\"sentiment\"]], \n",
    "    [\"Agree\"], \n",
    "    default=\"Disagree\"\n",
    ")\n",
    "\n",
    "v_acc = (df[\"s_agree\"] == \"Agree\").sum() / len(df)\n",
    "v_acc"
   ]
  },
  {
   "cell_type": "markdown",
   "metadata": {},
   "source": [
    "# Question 3"
   ]
  },
  {
   "cell_type": "code",
   "execution_count": 21,
   "metadata": {},
   "outputs": [],
   "source": [
    "sent_map = {\"Positive\": 1, \"Negative\":-1, \"Neutral\":0}\n",
    "y_human = df[\"sentiment\"].map(sent_map)\n",
    "y_vader = df[\"vader_sentiment\"].map(sent_map)\n",
    "\n",
    "opts = {\"max_features\": 100}\n",
    "X_bow = CountVectorizer(**opts).fit_transform(df[\"clean_text\"])\n",
    "X_tfidf = TfidfVectorizer(**opts).fit_transform(df[\"clean_text\"])"
   ]
  },
  {
   "cell_type": "code",
   "execution_count": 22,
   "metadata": {},
   "outputs": [],
   "source": [
    "def test_model(X, y, model):\n",
    "    X_train, X_test, y_train, y_test = train_test_split(X, y, train_size=0.7)\n",
    "    model.fit(X_train, y_train)\n",
    "    return model, model.predict(X), model.score(X_test, y_test)"
   ]
  },
  {
   "cell_type": "code",
   "execution_count": 23,
   "metadata": {},
   "outputs": [
    {
     "data": {
      "text/plain": [
       "0.6331090821720327"
      ]
     },
     "execution_count": 23,
     "metadata": {},
     "output_type": "execute_result"
    }
   ],
   "source": [
    "rf, rf_pred, rf_acc = test_model(X_tfidf, y_human, RandomForestClassifier())\n",
    "rf_acc"
   ]
  },
  {
   "cell_type": "code",
   "execution_count": 24,
   "metadata": {},
   "outputs": [
    {
     "data": {
      "text/plain": [
       "array([[False, False, False, ..., False, False, False],\n",
       "       [False, False, False, ..., False, False, False],\n",
       "       [False, False, False, ..., False, False, False],\n",
       "       ...,\n",
       "       [False, False, False, ..., False, False,  True],\n",
       "       [False, False, False, ..., False,  True, False],\n",
       "       [False, False, False, ..., False, False, False]])"
      ]
     },
     "execution_count": 24,
     "metadata": {},
     "output_type": "execute_result"
    }
   ],
   "source": [
    "X_bow.toarray() > 0"
   ]
  },
  {
   "cell_type": "code",
   "execution_count": 25,
   "metadata": {},
   "outputs": [
    {
     "data": {
      "text/plain": [
       "0.5970687169629986"
      ]
     },
     "execution_count": 25,
     "metadata": {},
     "output_type": "execute_result"
    }
   ],
   "source": [
    "bnb, bnb_pred, bnb_acc = test_model(X_bow > 0, y_human, BernoulliNB())\n",
    "bnb_acc"
   ]
  },
  {
   "cell_type": "code",
   "execution_count": 26,
   "metadata": {},
   "outputs": [
    {
     "data": {
      "text/plain": [
       "0.5956271023546372"
      ]
     },
     "execution_count": 26,
     "metadata": {},
     "output_type": "execute_result"
    }
   ],
   "source": [
    "mnb, mnb_pred, mnb_acc = test_model(X_bow, y_human, MultinomialNB())\n",
    "mnb_acc"
   ]
  },
  {
   "cell_type": "markdown",
   "metadata": {},
   "source": [
    "# Question 4"
   ]
  },
  {
   "cell_type": "code",
   "execution_count": 27,
   "metadata": {},
   "outputs": [
    {
     "data": {
      "text/plain": [
       "0.4097036983634922"
      ]
     },
     "execution_count": 27,
     "metadata": {},
     "output_type": "execute_result"
    }
   ],
   "source": [
    "v_acc"
   ]
  },
  {
   "cell_type": "markdown",
   "metadata": {},
   "source": [
    "# Question 5"
   ]
  },
  {
   "cell_type": "code",
   "execution_count": 28,
   "metadata": {},
   "outputs": [],
   "source": [
    "# Percent of day complete\n",
    "df[\"time_of_day\"] = (df[\"tweet_created\"].dt.hour + \n",
    "                     df[\"tweet_created\"].dt.minute/60 + \n",
    "                     df[\"tweet_created\"].dt.second/3600) / 24"
   ]
  },
  {
   "cell_type": "code",
   "execution_count": 29,
   "metadata": {},
   "outputs": [],
   "source": [
    "# change this\n",
    "df[\"method_sentiment\"] = y_human # bnb_pred\n",
    "\n",
    "df[\"method_pos\"] = df[\"method_sentiment\"] ==  1.0\n",
    "df[\"method_neg\"] = df[\"method_sentiment\"] == -1.0"
   ]
  },
  {
   "cell_type": "code",
   "execution_count": 30,
   "metadata": {},
   "outputs": [
    {
     "data": {
      "text/html": [
       "<div>\n",
       "<style scoped>\n",
       "    .dataframe tbody tr th:only-of-type {\n",
       "        vertical-align: middle;\n",
       "    }\n",
       "\n",
       "    .dataframe tbody tr th {\n",
       "        vertical-align: top;\n",
       "    }\n",
       "\n",
       "    .dataframe thead th {\n",
       "        text-align: right;\n",
       "    }\n",
       "</style>\n",
       "<table border=\"1\" class=\"dataframe\">\n",
       "  <thead>\n",
       "    <tr style=\"text-align: right;\">\n",
       "      <th></th>\n",
       "      <th>method_pos</th>\n",
       "      <th>method_neg</th>\n",
       "    </tr>\n",
       "    <tr>\n",
       "      <th>candidate</th>\n",
       "      <th></th>\n",
       "      <th></th>\n",
       "    </tr>\n",
       "  </thead>\n",
       "  <tbody>\n",
       "    <tr>\n",
       "      <th>Ben Carson</th>\n",
       "      <td>0.405941</td>\n",
       "      <td>0.460396</td>\n",
       "    </tr>\n",
       "    <tr>\n",
       "      <th>Chris Christie</th>\n",
       "      <td>0.112628</td>\n",
       "      <td>0.744027</td>\n",
       "    </tr>\n",
       "    <tr>\n",
       "      <th>Donald Trump</th>\n",
       "      <td>0.216495</td>\n",
       "      <td>0.624956</td>\n",
       "    </tr>\n",
       "    <tr>\n",
       "      <th>Jeb Bush</th>\n",
       "      <td>0.062411</td>\n",
       "      <td>0.835461</td>\n",
       "    </tr>\n",
       "    <tr>\n",
       "      <th>John Kasich</th>\n",
       "      <td>0.466942</td>\n",
       "      <td>0.338843</td>\n",
       "    </tr>\n",
       "    <tr>\n",
       "      <th>Marco Rubio</th>\n",
       "      <td>0.432727</td>\n",
       "      <td>0.381818</td>\n",
       "    </tr>\n",
       "    <tr>\n",
       "      <th>Mike Huckabee</th>\n",
       "      <td>0.185751</td>\n",
       "      <td>0.603053</td>\n",
       "    </tr>\n",
       "    <tr>\n",
       "      <th>No candidate mentioned</th>\n",
       "      <td>0.090776</td>\n",
       "      <td>0.630623</td>\n",
       "    </tr>\n",
       "    <tr>\n",
       "      <th>Rand Paul</th>\n",
       "      <td>0.209125</td>\n",
       "      <td>0.562738</td>\n",
       "    </tr>\n",
       "    <tr>\n",
       "      <th>Scott Walker</th>\n",
       "      <td>0.162162</td>\n",
       "      <td>0.691120</td>\n",
       "    </tr>\n",
       "    <tr>\n",
       "      <th>Ted Cruz</th>\n",
       "      <td>0.455259</td>\n",
       "      <td>0.346939</td>\n",
       "    </tr>\n",
       "  </tbody>\n",
       "</table>\n",
       "</div>"
      ],
      "text/plain": [
       "                        method_pos  method_neg\n",
       "candidate                                     \n",
       "Ben Carson                0.405941    0.460396\n",
       "Chris Christie            0.112628    0.744027\n",
       "Donald Trump              0.216495    0.624956\n",
       "Jeb Bush                  0.062411    0.835461\n",
       "John Kasich               0.466942    0.338843\n",
       "Marco Rubio               0.432727    0.381818\n",
       "Mike Huckabee             0.185751    0.603053\n",
       "No candidate mentioned    0.090776    0.630623\n",
       "Rand Paul                 0.209125    0.562738\n",
       "Scott Walker              0.162162    0.691120\n",
       "Ted Cruz                  0.455259    0.346939"
      ]
     },
     "execution_count": 30,
     "metadata": {},
     "output_type": "execute_result"
    }
   ],
   "source": [
    "df[[\"candidate\", \"method_pos\", \"method_neg\"]].groupby(\"candidate\").mean()"
   ]
  },
  {
   "cell_type": "code",
   "execution_count": 31,
   "metadata": {},
   "outputs": [
    {
     "data": {
      "text/html": [
       "<div>\n",
       "<style scoped>\n",
       "    .dataframe tbody tr th:only-of-type {\n",
       "        vertical-align: middle;\n",
       "    }\n",
       "\n",
       "    .dataframe tbody tr th {\n",
       "        vertical-align: top;\n",
       "    }\n",
       "\n",
       "    .dataframe thead th {\n",
       "        text-align: right;\n",
       "    }\n",
       "</style>\n",
       "<table border=\"1\" class=\"dataframe\">\n",
       "  <thead>\n",
       "    <tr style=\"text-align: right;\">\n",
       "      <th></th>\n",
       "      <th>retweet_count</th>\n",
       "    </tr>\n",
       "    <tr>\n",
       "      <th>method_sentiment</th>\n",
       "      <th></th>\n",
       "    </tr>\n",
       "  </thead>\n",
       "  <tbody>\n",
       "    <tr>\n",
       "      <th>-1</th>\n",
       "      <td>49.374191</td>\n",
       "    </tr>\n",
       "    <tr>\n",
       "      <th>0</th>\n",
       "      <td>37.314768</td>\n",
       "    </tr>\n",
       "    <tr>\n",
       "      <th>1</th>\n",
       "      <td>44.168157</td>\n",
       "    </tr>\n",
       "  </tbody>\n",
       "</table>\n",
       "</div>"
      ],
      "text/plain": [
       "                  retweet_count\n",
       "method_sentiment               \n",
       "-1                    49.374191\n",
       " 0                    37.314768\n",
       " 1                    44.168157"
      ]
     },
     "execution_count": 31,
     "metadata": {},
     "output_type": "execute_result"
    }
   ],
   "source": [
    "df[[\"method_sentiment\", \"retweet_count\"]].groupby(\"method_sentiment\").mean()"
   ]
  },
  {
   "cell_type": "code",
   "execution_count": 32,
   "metadata": {},
   "outputs": [
    {
     "data": {
      "text/plain": [
       "time_of_day    1.000000\n",
       "method_pos    -0.019715\n",
       "method_neg     0.098766\n",
       "Name: time_of_day, dtype: float64"
      ]
     },
     "execution_count": 32,
     "metadata": {},
     "output_type": "execute_result"
    }
   ],
   "source": [
    "df[[\"time_of_day\", \"method_pos\", \"method_neg\"]].corr()[\"time_of_day\"]"
   ]
  },
  {
   "cell_type": "code",
   "execution_count": 33,
   "metadata": {},
   "outputs": [
    {
     "data": {
      "text/plain": [
       "<Axes: xlabel='time_of_day', ylabel='method_sentiment'>"
      ]
     },
     "execution_count": 33,
     "metadata": {},
     "output_type": "execute_result"
    },
    {
     "data": {
      "image/png": "[encoded data removed]",
      "text/plain": [
       "<Figure size 640x480 with 1 Axes>"
      ]
     },
     "metadata": {},
     "output_type": "display_data"
    }
   ],
   "source": [
    "df[[\"time_of_day\", \"method_sentiment\"]].plot.scatter(\"time_of_day\", \"method_sentiment\", alpha=0.1)"
   ]
  },
  {
   "cell_type": "code",
   "execution_count": 34,
   "metadata": {},
   "outputs": [
    {
     "data": {
      "text/plain": [
       "<Axes: ylabel='Frequency'>"
      ]
     },
     "execution_count": 34,
     "metadata": {},
     "output_type": "execute_result"
    },
    {
     "data": {
      "image/png": "[encoded data removed]",
      "text/plain": [
       "<Figure size 640x480 with 1 Axes>"
      ]
     },
     "metadata": {},
     "output_type": "display_data"
    }
   ],
   "source": [
    "df[\"tweet_created\"].dt.hour.plot.hist()"
   ]
  },
  {
   "cell_type": "code",
   "execution_count": 35,
   "metadata": {},
   "outputs": [
    {
     "data": {
      "text/plain": [
       "<Axes: xlabel='hour_of_day'>"
      ]
     },
     "execution_count": 35,
     "metadata": {},
     "output_type": "execute_result"
    },
    {
     "data": {
      "image/png": "[encoded data removed]",
      "text/plain": [
       "<Figure size 640x480 with 1 Axes>"
      ]
     },
     "metadata": {},
     "output_type": "display_data"
    }
   ],
   "source": [
    "df[\"hour_of_day\"] = df[\"tweet_created\"].dt.hour\n",
    "df[[\"hour_of_day\", \"method_sentiment\"]].groupby(\"hour_of_day\").mean().plot()"
   ]
  },
  {
   "cell_type": "code",
   "execution_count": null,
   "metadata": {},
   "outputs": [],
   "source": []
  }
 ],
 "metadata": {
  "kernelspec": {
   "display_name": "Python 3",
   "language": "python",
   "name": "python3"
  },
  "language_info": {
   "codemirror_mode": {
    "name": "ipython",
    "version": 3
   },
   "file_extension": ".py",
   "mimetype": "text/x-python",
   "name": "python",
   "nbconvert_exporter": "python",
   "pygments_lexer": "ipython3",
   "version": "3.7.6"
  }
 },
 "nbformat": 4,
 "nbformat_minor": 5
}
